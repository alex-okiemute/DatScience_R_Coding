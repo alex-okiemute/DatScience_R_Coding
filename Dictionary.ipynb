{
 "cells": [
  {
   "cell_type": "code",
   "execution_count": 14,
   "id": "c674c23b-d627-40d3-a199-4128eb7fdfef",
   "metadata": {},
   "outputs": [],
   "source": [
    "# Dictionaries is defined by curly brackets\n",
    "# It has a key and set of values. \n",
    "DICT = {\"Thriller\": 1982, \"Back in Black\": 1980, \\\n",
    "        \"The Dark Side of the Moon\": 1973, \"The Bodyguard\": 1992, \\\n",
    "        \"Bat Out of Hell\": 1977, \"Their Greatest...\": 1976, \"Saturday Night Fever\": 1977, \"Rumours\": 1977 }"
   ]
  },
  {
   "cell_type": "code",
   "execution_count": 15,
   "id": "5392d97a-c695-493d-be42-6e86ab5b1f2e",
   "metadata": {},
   "outputs": [
    {
     "data": {
      "text/plain": [
       "{'Thriller': 1982,\n",
       " 'Back in Black': 1980,\n",
       " 'The Dark Side of the Moon': 1973,\n",
       " 'The Bodyguard': 1992,\n",
       " 'Bat Out of Hell': 1977,\n",
       " 'Their Greatest...': 1976,\n",
       " 'Saturday Night Fever': 1977,\n",
       " 'Rumours': 1977}"
      ]
     },
     "execution_count": 15,
     "metadata": {},
     "output_type": "execute_result"
    }
   ],
   "source": [
    "DICT"
   ]
  },
  {
   "cell_type": "code",
   "execution_count": 3,
   "id": "00789d75-a9f9-41b5-915c-a226085b46d9",
   "metadata": {},
   "outputs": [
    {
     "data": {
      "text/plain": [
       "1982"
      ]
     },
     "execution_count": 3,
     "metadata": {},
     "output_type": "execute_result"
    }
   ],
   "source": [
    "# Querying a dictionary using a specific key\n",
    "DICT[\"Thriller\"]"
   ]
  },
  {
   "cell_type": "code",
   "execution_count": 4,
   "id": "a020404b-7bec-4934-878d-a255e15cc8ae",
   "metadata": {},
   "outputs": [
    {
     "data": {
      "text/plain": [
       "dict_values([1982, 1980, 1973, 1992, 1977, 1976, 1977, 1977])"
      ]
     },
     "execution_count": 4,
     "metadata": {},
     "output_type": "execute_result"
    }
   ],
   "source": [
    "# List the values in a dictionary\n",
    "DICT.values()"
   ]
  },
  {
   "cell_type": "code",
   "execution_count": 7,
   "id": "e70e7f94-1986-4de2-9efd-cb4ce25fb3bf",
   "metadata": {},
   "outputs": [
    {
     "data": {
      "text/plain": [
       "dict_keys(['Back in Black', 'The Dark Side of the Moon', 'The Bodyguard', 'Bat Out of Hell', 'Their Greatest...', 'Saturday Night Fever', 'Rumours', 'Graduation'])"
      ]
     },
     "execution_count": 7,
     "metadata": {},
     "output_type": "execute_result"
    }
   ],
   "source": [
    "# list dictionary keys\n",
    "DICT.keys()"
   ]
  },
  {
   "cell_type": "code",
   "execution_count": 5,
   "id": "0e1b2772-6bd0-41d2-ad83-2efb4f66cfb2",
   "metadata": {},
   "outputs": [
    {
     "data": {
      "text/plain": [
       "{'Thriller': 1982,\n",
       " 'Back in Black': 1980,\n",
       " 'The Dark Side of the Moon': 1973,\n",
       " 'The Bodyguard': 1992,\n",
       " 'Bat Out of Hell': 1977,\n",
       " 'Their Greatest...': 1976,\n",
       " 'Saturday Night Fever': 1977,\n",
       " 'Rumours': 1977,\n",
       " 'Graduation': '2007'}"
      ]
     },
     "execution_count": 5,
     "metadata": {},
     "output_type": "execute_result"
    }
   ],
   "source": [
    "# Adding a new entry to a dictionary\n",
    "DICT['Graduation']='2007'\n",
    "DICT"
   ]
  },
  {
   "cell_type": "code",
   "execution_count": 6,
   "id": "f7a324a0-8b8d-4c82-bf8d-2ebd3f776b0f",
   "metadata": {},
   "outputs": [
    {
     "data": {
      "text/plain": [
       "{'Back in Black': 1980,\n",
       " 'The Dark Side of the Moon': 1973,\n",
       " 'The Bodyguard': 1992,\n",
       " 'Bat Out of Hell': 1977,\n",
       " 'Their Greatest...': 1976,\n",
       " 'Saturday Night Fever': 1977,\n",
       " 'Rumours': 1977,\n",
       " 'Graduation': '2007'}"
      ]
     },
     "execution_count": 6,
     "metadata": {},
     "output_type": "execute_result"
    }
   ],
   "source": [
    "# Delete an entry in a dictionary\n",
    "del(DICT['Thriller'])\n",
    "DICT"
   ]
  },
  {
   "cell_type": "code",
   "execution_count": 13,
   "id": "4ccfdc43-f697-4c53-92bd-83f0f3857a8b",
   "metadata": {},
   "outputs": [
    {
     "data": {
      "text/plain": [
       "True"
      ]
     },
     "execution_count": 13,
     "metadata": {},
     "output_type": "execute_result"
    }
   ],
   "source": [
    "# Using the in command to check for a key in the dictionary.\n",
    "# It returns a true if present and false if otherwise\n",
    "'The Bodyguard' in DICT\n"
   ]
  },
  {
   "cell_type": "code",
   "execution_count": null,
   "id": "c3e571ce-9103-47df-893a-f9e5ce78d541",
   "metadata": {},
   "outputs": [],
   "source": []
  }
 ],
 "metadata": {
  "kernelspec": {
   "display_name": "Python",
   "language": "python",
   "name": "conda-env-python-py"
  },
  "language_info": {
   "codemirror_mode": {
    "name": "ipython",
    "version": 3
   },
   "file_extension": ".py",
   "mimetype": "text/x-python",
   "name": "python",
   "nbconvert_exporter": "python",
   "pygments_lexer": "ipython3",
   "version": "3.7.12"
  }
 },
 "nbformat": 4,
 "nbformat_minor": 5
}
