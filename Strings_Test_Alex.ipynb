{
 "cells": [
  {
   "cell_type": "code",
   "execution_count": 5,
   "id": "1c880661-3d9f-4fbb-beb9-da1519879053",
   "metadata": {},
   "outputs": [
    {
     "data": {
      "text/plain": [
       "'McalJcsn'"
      ]
     },
     "execution_count": 5,
     "metadata": {},
     "output_type": "execute_result"
    }
   ],
   "source": [
    "# Subsetting or slicing strings in python - strides\n",
    "Name = \"Michael Jackson\"\n",
    "x = Name[::2]\n",
    "x"
   ]
  },
  {
   "cell_type": "code",
   "execution_count": 7,
   "id": "abfbd463-d4ff-4cd6-9ef2-76de4b266702",
   "metadata": {},
   "outputs": [
    {
     "data": {
      "text/plain": [
       "'Mca'"
      ]
     },
     "execution_count": 7,
     "metadata": {},
     "output_type": "execute_result"
    }
   ],
   "source": [
    "# Select tect between character limits - 0 and 4 - first 5 characters - slicing\n",
    "y = Name[0:5:2]\n",
    "y"
   ]
  },
  {
   "cell_type": "code",
   "execution_count": 8,
   "id": "8e884a85-5a79-4d4b-84f8-346ddd217c4d",
   "metadata": {},
   "outputs": [
    {
     "data": {
      "text/plain": [
       "15"
      ]
     },
     "execution_count": 8,
     "metadata": {},
     "output_type": "execute_result"
    }
   ],
   "source": [
    "# Determine the length of the string\n",
    "len(Name)"
   ]
  },
  {
   "cell_type": "code",
   "execution_count": 11,
   "id": "e50614f5-21c1-4528-9bf1-6fef4ff2ce34",
   "metadata": {},
   "outputs": [
    {
     "data": {
      "text/plain": [
       "'Michael Jacksonis my best friend ever!'"
      ]
     },
     "execution_count": 11,
     "metadata": {},
     "output_type": "execute_result"
    }
   ],
   "source": [
    "# Concatenate strings\n",
    "new = Name + \"is my best friend ever!\"\n",
    "new"
   ]
  },
  {
   "cell_type": "code",
   "execution_count": 12,
   "id": "d8ff9b00-7373-41c7-9ea4-87613cd7fa99",
   "metadata": {},
   "outputs": [
    {
     "data": {
      "text/plain": [
       "'Michael JacksonMichael JacksonMichael Jackson'"
      ]
     },
     "execution_count": 12,
     "metadata": {},
     "output_type": "execute_result"
    }
   ],
   "source": [
    "## Create triplicates of a string\n",
    "triple = 3 * Name\n",
    "triple"
   ]
  },
  {
   "cell_type": "code",
   "execution_count": 14,
   "id": "65d21b68-9e26-493d-ba24-5102f304c7c6",
   "metadata": {},
   "outputs": [
    {
     "name": "stdout",
     "output_type": "stream",
     "text": [
      "Michael Jackson \n",
      "is the best!\n"
     ]
    }
   ],
   "source": [
    "# \\n represents a new line and can be used to break a string into series of sentences\n",
    "print(\"Michael Jackson \\nis the best!\")"
   ]
  },
  {
   "cell_type": "code",
   "execution_count": 15,
   "id": "e323e9ac-0646-4a65-b732-83f366dd2e26",
   "metadata": {},
   "outputs": [
    {
     "name": "stdout",
     "output_type": "stream",
     "text": [
      "Michael Jackson \tis the best!\n"
     ]
    }
   ],
   "source": [
    "## A tab can be introduced using the \\t\n",
    "print(\"Michael Jackson \\tis the best!\")"
   ]
  },
  {
   "cell_type": "code",
   "execution_count": 20,
   "id": "fc1acd6c-a4af-4016-a398-84f08de7a5a2",
   "metadata": {},
   "outputs": [
    {
     "name": "stdout",
     "output_type": "stream",
     "text": [
      "Michael Jackson \\ is the best!\n"
     ]
    }
   ],
   "source": [
    "#How to introduce a backslash in your string\n",
    "print(\"Michael Jackson \\\\ is the best!\")"
   ]
  },
  {
   "cell_type": "code",
   "execution_count": 29,
   "id": "926c2046-347a-4489-b4fc-05817b8d49f7",
   "metadata": {},
   "outputs": [
    {
     "name": "stdout",
     "output_type": "stream",
     "text": [
      "THRILLER IS THE SIXTH STUDIO ALBUM\n",
      "thriller is the sixth studio album\n"
     ]
    }
   ],
   "source": [
    "# Chaning or modifying strings in python\n",
    "A = \"Thriller is the sixth studio album\"\n",
    "B = A.upper()\n",
    "C = A.lower()\n",
    "print(B)\n",
    "print(C)"
   ]
  },
  {
   "cell_type": "code",
   "execution_count": 30,
   "id": "589db50a-1bf7-4a4b-950d-42fe3e73149c",
   "metadata": {},
   "outputs": [
    {
     "data": {
      "text/plain": [
       "'Janet Jackson'"
      ]
     },
     "execution_count": 30,
     "metadata": {},
     "output_type": "execute_result"
    }
   ],
   "source": [
    "# Replacing a subset of an input string\n",
    "D = Name.replace(\"Michael\", \"Janet\")\n",
    "D"
   ]
  },
  {
   "cell_type": "code",
   "execution_count": 31,
   "id": "48d14b25-92b9-48ce-a126-d580cb5e8465",
   "metadata": {},
   "outputs": [
    {
     "data": {
      "text/plain": [
       "5"
      ]
     },
     "execution_count": 31,
     "metadata": {},
     "output_type": "execute_result"
    }
   ],
   "source": [
    "# Finding sub strings in a text\n",
    "Name.find(\"el\")"
   ]
  },
  {
   "cell_type": "code",
   "execution_count": 33,
   "id": "d27fe103-8bf0-4d20-ba0a-8f16dfa47335",
   "metadata": {},
   "outputs": [
    {
     "data": {
      "text/plain": [
       "'2'"
      ]
     },
     "execution_count": 33,
     "metadata": {},
     "output_type": "execute_result"
    }
   ],
   "source": [
    "str(1+1)"
   ]
  },
  {
   "cell_type": "code",
   "execution_count": 34,
   "id": "efe0062f-ffe8-4f28-a2df-1f185b7493af",
   "metadata": {},
   "outputs": [
    {
     "data": {
      "text/plain": [
       "float"
      ]
     },
     "execution_count": 34,
     "metadata": {},
     "output_type": "execute_result"
    }
   ],
   "source": [
    "x = 2/2\n",
    "type(x)"
   ]
  },
  {
   "cell_type": "code",
   "execution_count": null,
   "id": "a2d20e81-87e3-4e13-8554-1ca079831bad",
   "metadata": {},
   "outputs": [],
   "source": []
  }
 ],
 "metadata": {
  "kernelspec": {
   "display_name": "Python",
   "language": "python",
   "name": "conda-env-python-py"
  },
  "language_info": {
   "codemirror_mode": {
    "name": "ipython",
    "version": 3
   },
   "file_extension": ".py",
   "mimetype": "text/x-python",
   "name": "python",
   "nbconvert_exporter": "python",
   "pygments_lexer": "ipython3",
   "version": "3.7.12"
  }
 },
 "nbformat": 4,
 "nbformat_minor": 5
}
