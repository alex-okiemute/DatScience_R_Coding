{
 "cells": [
  {
   "cell_type": "code",
   "execution_count": null,
   "id": "a3f0f662-60bb-4366-a0bb-c78d31e4047e",
   "metadata": {},
   "outputs": [],
   "source": [
    "# In python turples can contain strings, integers and floats\n",
    "# Each element of a turple can be accessed by an index\n",
    "# Foe example Tuple1 = (\"disco\",10,1.2)\n",
    "# Index 0=\"disco\", 1=10 & 2=1.2\n",
    "# For example, Turple1[0]:\"disco\"\n",
    "# We can Concatenat tuples e.g"
   ]
  },
  {
   "cell_type": "code",
   "execution_count": 1,
   "id": "86de4a39-f1bf-4ef0-8999-e3c693539175",
   "metadata": {},
   "outputs": [
    {
     "data": {
      "text/plain": [
       "('disco', 10, 1.2, 'hard rock', 10)"
      ]
     },
     "execution_count": 1,
     "metadata": {},
     "output_type": "execute_result"
    }
   ],
   "source": [
    "tuple1 = (\"disco\", 10, 1.2)\n",
    "tuple2 = tuple1 + (\"hard rock\", 10)\n",
    "tuple2"
   ]
  },
  {
   "cell_type": "code",
   "execution_count": 2,
   "id": "f9cc66b7-a056-45aa-8756-073f26f5aa80",
   "metadata": {},
   "outputs": [
    {
     "data": {
      "text/plain": [
       "('disco', 10, 1.2)"
      ]
     },
     "execution_count": 2,
     "metadata": {},
     "output_type": "execute_result"
    }
   ],
   "source": [
    "tuple2[:3]"
   ]
  },
  {
   "cell_type": "code",
   "execution_count": 5,
   "id": "51b6185f-d894-4009-862b-fc48bbda5eba",
   "metadata": {},
   "outputs": [
    {
     "data": {
      "text/plain": [
       "('hard rock', 10)"
      ]
     },
     "execution_count": 5,
     "metadata": {},
     "output_type": "execute_result"
    }
   ],
   "source": [
    "# Slice the last two elements of turple2\n",
    "tuple2[3:5]"
   ]
  },
  {
   "cell_type": "code",
   "execution_count": 7,
   "id": "986b1c7a-ad08-4b75-bb8e-25eefeac1509",
   "metadata": {},
   "outputs": [
    {
     "data": {
      "text/plain": [
       "5"
      ]
     },
     "execution_count": 7,
     "metadata": {},
     "output_type": "execute_result"
    }
   ],
   "source": [
    "len(tuple2)"
   ]
  },
  {
   "cell_type": "code",
   "execution_count": 8,
   "id": "2d1b2337-4980-4f6e-a51e-b6271c90a8a7",
   "metadata": {},
   "outputs": [
    {
     "data": {
      "text/plain": [
       "[2, 5, 6, 6, 8, 9, 9, 10, 10]"
      ]
     },
     "execution_count": 8,
     "metadata": {},
     "output_type": "execute_result"
    }
   ],
   "source": [
    "# Tuples are immutble, that means the elements of a tuple cannot be changed directly\n",
    "# To change the elements of a tuple you need to reassign the turple to another variable or object\n",
    "Ratings = (10, 9, 6, 5, 10, 8, 9, 6, 2)\n",
    "RatingsSorted = sorted(Ratings)\n",
    "RatingsSorted"
   ]
  },
  {
   "cell_type": "code",
   "execution_count": 9,
   "id": "dff7f9f5-fe4d-4045-afda-3e73747f79a2",
   "metadata": {},
   "outputs": [
    {
     "data": {
      "text/plain": [
       "'rock'"
      ]
     },
     "execution_count": 9,
     "metadata": {},
     "output_type": "execute_result"
    }
   ],
   "source": [
    "# Tuples can contain tuples and other complex data type - nesting \n",
    "NT = (1, 2, (\"pop\", \"rock\"), (3, 4), (\"disco\", (1, 2)))\n",
    "NT[2][1]"
   ]
  },
  {
   "cell_type": "code",
   "execution_count": 10,
   "id": "a93f1e9f-c831-4d69-94a3-30750bf7c187",
   "metadata": {},
   "outputs": [
    {
     "data": {
      "text/plain": [
       "2"
      ]
     },
     "execution_count": 10,
     "metadata": {},
     "output_type": "execute_result"
    }
   ],
   "source": [
    "NT[4][1][1]"
   ]
  },
  {
   "cell_type": "code",
   "execution_count": 11,
   "id": "5f9a8a69-2e3d-4a8c-afa4-2ab42bf9973f",
   "metadata": {},
   "outputs": [
    {
     "data": {
      "text/plain": [
       "3"
      ]
     },
     "execution_count": 11,
     "metadata": {},
     "output_type": "execute_result"
    }
   ],
   "source": [
    "NT[3][0]"
   ]
  },
  {
   "cell_type": "code",
   "execution_count": 12,
   "id": "538bd9da-8656-4c13-8a41-2c3e78c4d312",
   "metadata": {},
   "outputs": [
    {
     "data": {
      "text/plain": [
       "4"
      ]
     },
     "execution_count": 12,
     "metadata": {},
     "output_type": "execute_result"
    }
   ],
   "source": [
    "NT[3][1]"
   ]
  },
  {
   "cell_type": "code",
   "execution_count": 13,
   "id": "918a0f00-f602-4c9c-9090-6fabf3ac30a3",
   "metadata": {},
   "outputs": [
    {
     "data": {
      "text/plain": [
       "'o'"
      ]
     },
     "execution_count": 13,
     "metadata": {},
     "output_type": "execute_result"
    }
   ],
   "source": [
    "NT[2][0][1]"
   ]
  },
  {
   "cell_type": "code",
   "execution_count": 14,
   "id": "93ba2cf0-93e2-44e3-9c29-4b9373bff2f6",
   "metadata": {},
   "outputs": [
    {
     "data": {
      "text/plain": [
       "'Michael Jackson'"
      ]
     },
     "execution_count": 14,
     "metadata": {},
     "output_type": "execute_result"
    }
   ],
   "source": [
    "# List are an ordered sequence\n",
    "# LIST ARE LIKE TURPLES BUT ARE MUTABLE - I.E. CAN BE MODIFIED\n",
    "# LISTS ARE REPRESENTED AS SQUARE BRACKETS\n",
    "M =['Michael Jackson', 10.1, 1982, [1, 2], ('A', 1)]\n",
    "M[0]"
   ]
  },
  {
   "cell_type": "code",
   "execution_count": 15,
   "id": "5c316d9e-8fa4-4d1a-8804-1b0981352488",
   "metadata": {},
   "outputs": [
    {
     "data": {
      "text/plain": [
       "('A', 1)"
      ]
     },
     "execution_count": 15,
     "metadata": {},
     "output_type": "execute_result"
    }
   ],
   "source": [
    "M[4]"
   ]
  },
  {
   "cell_type": "code",
   "execution_count": 16,
   "id": "acbda607-f784-4b48-8765-c2dfa451422f",
   "metadata": {},
   "outputs": [
    {
     "data": {
      "text/plain": [
       "[[1, 2], ('A', 1)]"
      ]
     },
     "execution_count": 16,
     "metadata": {},
     "output_type": "execute_result"
    }
   ],
   "source": [
    "M[3:5]"
   ]
  },
  {
   "cell_type": "code",
   "execution_count": 19,
   "id": "3e7db197-e900-417a-9d5c-176866802894",
   "metadata": {},
   "outputs": [
    {
     "data": {
      "text/plain": [
       "['Michael Jackson', 10.1, 1982, [1, 2], ('A', 1), 'pop', 6]"
      ]
     },
     "execution_count": 19,
     "metadata": {},
     "output_type": "execute_result"
    }
   ],
   "source": [
    "# Concatnate a list\n",
    "M + ['pop', 6]"
   ]
  },
  {
   "cell_type": "code",
   "execution_count": 25,
   "id": "34451321-15a8-4409-840a-588d5f8e24e9",
   "metadata": {},
   "outputs": [],
   "source": [
    "# You can concaternate a list by extending the list e.g.\n",
    "M1 = M.extend([\"pop\", 6])"
   ]
  },
  {
   "cell_type": "code",
   "execution_count": 26,
   "id": "a7669eaa-f61d-4f66-81da-d06cfdc8f940",
   "metadata": {},
   "outputs": [],
   "source": [
    "M1"
   ]
  },
  {
   "cell_type": "code",
   "execution_count": 43,
   "id": "c427cb5a-f176-4f36-abda-b2e0c8300b85",
   "metadata": {},
   "outputs": [
    {
     "data": {
      "text/plain": [
       "['Michael Jackson', 10.1, 1982, 'pop', 10]"
      ]
     },
     "execution_count": 43,
     "metadata": {},
     "output_type": "execute_result"
    }
   ],
   "source": [
    "L = ['Michael Jackson', 10.1, 1982]\n",
    "L.extend([\"pop\", 10])\n",
    "L"
   ]
  },
  {
   "cell_type": "code",
   "execution_count": 29,
   "id": "55ce297a-c060-42e8-acb4-73cb9f58066b",
   "metadata": {},
   "outputs": [],
   "source": []
  },
  {
   "cell_type": "code",
   "execution_count": 33,
   "id": "9bd41a03-0fef-4683-b0fc-bc89e27d7c16",
   "metadata": {},
   "outputs": [
    {
     "data": {
      "text/plain": [
       "7"
      ]
     },
     "execution_count": 33,
     "metadata": {},
     "output_type": "execute_result"
    }
   ],
   "source": [
    "len(L)"
   ]
  },
  {
   "cell_type": "code",
   "execution_count": 39,
   "id": "5e05d65f-e3aa-4b26-8c6a-458977c50511",
   "metadata": {},
   "outputs": [
    {
     "data": {
      "text/plain": [
       "[10, 1.2]"
      ]
     },
     "execution_count": 39,
     "metadata": {},
     "output_type": "execute_result"
    }
   ],
   "source": [
    "# Append is similar to the extend. The key difference is that it adds the element as a SINGLE NESTED list\n",
    "# The elements of a list can be deleted using the del command\n",
    "A = [\"hard rock\", 10, 1.2]\n",
    "del(A[0])\n",
    "A"
   ]
  },
  {
   "cell_type": "code",
   "execution_count": 40,
   "id": "0b52d0f1-96a2-478a-94bd-68feb0d2569e",
   "metadata": {},
   "outputs": [
    {
     "data": {
      "text/plain": [
       "['hard', 'rock']"
      ]
     },
     "execution_count": 40,
     "metadata": {},
     "output_type": "execute_result"
    }
   ],
   "source": [
    "#You can split a list using the split command\n",
    "delete = \"hard rock\".split()"
   ]
  },
  {
   "cell_type": "code",
   "execution_count": 41,
   "id": "e37008c9-c9f0-468b-982c-5704e0f1c8d1",
   "metadata": {},
   "outputs": [
    {
     "ename": "NameError",
     "evalue": "name 'delete' is not defined",
     "output_type": "error",
     "traceback": [
      "\u001b[0;31m---------------------------------------------------------------------------\u001b[0m",
      "\u001b[0;31mNameError\u001b[0m                                 Traceback (most recent call last)",
      "\u001b[0;32m/tmp/ipykernel_2720/3848392485.py\u001b[0m in \u001b[0;36m<module>\u001b[0;34m\u001b[0m\n\u001b[0;32m----> 1\u001b[0;31m \u001b[0;32mdel\u001b[0m\u001b[0;34m(\u001b[0m\u001b[0mdelete\u001b[0m\u001b[0;34m[\u001b[0m\u001b[0;36m0\u001b[0m\u001b[0;34m]\u001b[0m\u001b[0;34m)\u001b[0m\u001b[0;34m\u001b[0m\u001b[0;34m\u001b[0m\u001b[0m\n\u001b[0m",
      "\u001b[0;31mNameError\u001b[0m: name 'delete' is not defined"
     ]
    }
   ],
   "source": [
    "del(delete[0])\n"
   ]
  },
  {
   "cell_type": "code",
   "execution_count": null,
   "id": "2ff8ce09-68a4-4cbc-b7c1-90c178743af7",
   "metadata": {},
   "outputs": [],
   "source": []
  }
 ],
 "metadata": {
  "kernelspec": {
   "display_name": "Python",
   "language": "python",
   "name": "conda-env-python-py"
  },
  "language_info": {
   "codemirror_mode": {
    "name": "ipython",
    "version": 3
   },
   "file_extension": ".py",
   "mimetype": "text/x-python",
   "name": "python",
   "nbconvert_exporter": "python",
   "pygments_lexer": "ipython3",
   "version": "3.7.12"
  }
 },
 "nbformat": 4,
 "nbformat_minor": 5
}
