{
 "cells": [
  {
   "cell_type": "code",
   "execution_count": 1,
   "id": "5e4472e5-f839-4adc-8ce9-82c25a28e68e",
   "metadata": {},
   "outputs": [
    {
     "data": {
      "text/plain": [
       "{'R&B', 'disco', 'hard rock', 'pop', 'rock', 'soul'}"
      ]
     },
     "execution_count": 1,
     "metadata": {},
     "output_type": "execute_result"
    }
   ],
   "source": [
    "# Sets are a type of collection\n",
    "# Sets can be used to remove duplicates elements from a dictionary - more like categorization\n",
    "genre_list = [\"pop\", \"rock\", \"soul\", \"hard rock\", \"rock\", \"R&B\", \"rock\", \"disco\"]\n",
    "genre_set = set(genre_list)\n",
    "genre_set"
   ]
  },
  {
   "cell_type": "code",
   "execution_count": 5,
   "id": "63b925f6-6de1-4f34-8864-20fdf9593776",
   "metadata": {},
   "outputs": [
    {
     "data": {
      "text/plain": [
       "{'R&B', 'disco', 'fuji', 'hard rock', 'pop', 'rock', 'soul'}"
      ]
     },
     "execution_count": 5,
     "metadata": {},
     "output_type": "execute_result"
    }
   ],
   "source": [
    "# Set opertions\n",
    "# How to add an element to a set\n",
    "genre_set.add(\"fuji\")\n",
    "genre_set"
   ]
  },
  {
   "cell_type": "code",
   "execution_count": 6,
   "id": "56f87b95-2148-4d52-b190-42ce313cf442",
   "metadata": {},
   "outputs": [
    {
     "data": {
      "text/plain": [
       "{'R&B', 'disco', 'hard rock', 'pop', 'rock', 'soul'}"
      ]
     },
     "execution_count": 6,
     "metadata": {},
     "output_type": "execute_result"
    }
   ],
   "source": [
    "# Removing set from a set object\n",
    "genre_set.remove(\"fuji\")\n",
    "genre_set"
   ]
  },
  {
   "cell_type": "code",
   "execution_count": 7,
   "id": "952c083b-5b17-4e96-ab54-99719a151e67",
   "metadata": {},
   "outputs": [
    {
     "data": {
      "text/plain": [
       "True"
      ]
     },
     "execution_count": 7,
     "metadata": {},
     "output_type": "execute_result"
    }
   ],
   "source": [
    "# Checking if an element is a set use the in command, if present Ture is display otherwise False \n",
    "\"disco\" in genre_set"
   ]
  },
  {
   "cell_type": "code",
   "execution_count": 16,
   "id": "3d864fc6-9388-482e-8dde-6b487cf22fd5",
   "metadata": {},
   "outputs": [],
   "source": [
    "# The And command is used to find the intersects of two sets - that is any elements(s) present to both sets\n",
    "set1 = genre_set.add(\"fuji\")"
   ]
  },
  {
   "cell_type": "code",
   "execution_count": null,
   "id": "af422f5b-1d6b-4135-89e6-52d693d86853",
   "metadata": {},
   "outputs": [],
   "source": [
    "# Commands & - add command (overlap of common elements in two sets)\n",
    "# Union - merges elements in two sets and produces a unique set\n",
    "# Cleck if elements in a set is subset of another. This is done using the subst method - issubset - If yes - True otherwise False"
   ]
  }
 ],
 "metadata": {
  "kernelspec": {
   "display_name": "Python",
   "language": "python",
   "name": "conda-env-python-py"
  },
  "language_info": {
   "codemirror_mode": {
    "name": "ipython",
    "version": 3
   },
   "file_extension": ".py",
   "mimetype": "text/x-python",
   "name": "python",
   "nbconvert_exporter": "python",
   "pygments_lexer": "ipython3",
   "version": "3.7.12"
  }
 },
 "nbformat": 4,
 "nbformat_minor": 5
}
